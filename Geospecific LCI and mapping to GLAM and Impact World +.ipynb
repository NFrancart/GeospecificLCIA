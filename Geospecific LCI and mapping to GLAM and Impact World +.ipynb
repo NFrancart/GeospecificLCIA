{
 "cells": [
  {
   "cell_type": "markdown",
   "metadata": {},
   "source": [
    "# Geographically specific LCI and mapping with GLAM and Impact World + factors"
   ]
  },
  {
   "cell_type": "markdown",
   "metadata": {},
   "source": [
    "Useful resources: <br>\n",
    "https://stackoverflow.com/questions/72115909/get-all-elementary-flows-generated-by-an-activity-in-brightway <br>\n",
    "https://stackoverflow.com/questions/75914149/unable-to-use-bw2calc-lca-to-dafaframe-to-export-lci-data <br>\n",
    "https://stackoverflow.com/questions/77351101/named-life-cycle-inventory <br>"
   ]
  },
  {
   "cell_type": "markdown",
   "metadata": {},
   "source": [
    "## Setup"
   ]
  },
  {
   "cell_type": "code",
   "execution_count": null,
   "metadata": {},
   "outputs": [],
   "source": [
    "# If you do not have the following libraries installed, you can install them using the 'pip install' command (for instance, 'pip install pandas')\n",
    "import bw2io as bi \n",
    "import bw2data as bd\n",
    "import bw2calc as bc\n",
    "import pandas as pd\n",
    "import os\n",
    "from functools import lru_cache\n",
    "from IPython.display import clear_output"
   ]
  },
  {
   "cell_type": "code",
   "execution_count": null,
   "metadata": {},
   "outputs": [],
   "source": [
    "bd.projects.set_current('Extracting_LCI') # activates a project, or creates it first if it doesn't exist yet"
   ]
  },
  {
   "cell_type": "code",
   "execution_count": null,
   "metadata": {},
   "outputs": [],
   "source": [
    "# Run this if you haven't imported ecoinvent yet:\n",
    "#bi.import_ecoinvent_release(\n",
    "#        version='3.10.1',  # or whichever version you want to use\n",
    "#        system_model='cutoff', # can be cutoff / apos / consequential / EN15804\n",
    "#        username='yourEcoinventUsername',\n",
    "#        password='yourEcoinventPassword'\n",
    "#    )"
   ]
  },
  {
   "cell_type": "code",
   "execution_count": null,
   "metadata": {},
   "outputs": [],
   "source": [
    "ecoinvent=bd.Database('ecoinvent-3.10.1-cutoff')"
   ]
  },
  {
   "cell_type": "markdown",
   "metadata": {},
   "source": [
    "## Brightway examples"
   ]
  },
  {
   "cell_type": "markdown",
   "metadata": {},
   "source": [
    "This section is just providing examples of how to find a particular activity or LCIA method in the ecoinvent database, and how to perform an LCA."
   ]
  },
  {
   "cell_type": "markdown",
   "metadata": {},
   "source": [
    "### Activity selection"
   ]
  },
  {
   "cell_type": "code",
   "execution_count": null,
   "metadata": {},
   "outputs": [],
   "source": [
    "prod_name='sawnwood, beam, softwood, dried (u=10%), planed'\n",
    "act_name='market for '+prod_name\n",
    "location='Europe without Switzerland'\n",
    "unit='cubic meter'"
   ]
  },
  {
   "cell_type": "code",
   "execution_count": null,
   "metadata": {},
   "outputs": [],
   "source": [
    "def select_activity(act_name, prod_name, location, unit):\n",
    "    act_list = [x for x in ecoinvent if act_name.lower() == x['name'].lower() and prod_name.lower() == x['reference product'].lower() and location.lower() == x['location'].lower() and unit.lower() == x['unit'].lower()]\n",
    "    assert len(act_list)==1, 'There should be exactly one activity matching the criteria, we found '+str(len(act_list))+': '+str(act_list)\n",
    "    return act_list[0]"
   ]
  },
  {
   "cell_type": "code",
   "execution_count": null,
   "metadata": {},
   "outputs": [],
   "source": [
    "activity=select_activity(act_name, prod_name, location, unit)\n",
    "print(activity)"
   ]
  },
  {
   "cell_type": "markdown",
   "metadata": {},
   "source": [
    "### Method selection"
   ]
  },
  {
   "cell_type": "code",
   "execution_count": null,
   "metadata": {},
   "outputs": [],
   "source": [
    "method=('IMPACT World+ v2.1, footprint version',  'ecosystem quality',  'remaining ecosystem quality damage')\n",
    "# Note that the footprint and expert versions are quite different! https://zenodo.org/records/14041258"
   ]
  },
  {
   "cell_type": "code",
   "execution_count": null,
   "metadata": {},
   "outputs": [],
   "source": [
    "def select_method(method):\n",
    "    method_list=[x for x in bd.methods if str(method) in str(x)]\n",
    "    assert len(method_list)==1, 'There should be exactly one method matching the criteria, we found '+str(len(method_list))+': '+str(method_list)\n",
    "    return method_list[0]"
   ]
  },
  {
   "cell_type": "code",
   "execution_count": null,
   "metadata": {},
   "outputs": [],
   "source": [
    "IWplus=select_method(method)"
   ]
  },
  {
   "cell_type": "markdown",
   "metadata": {},
   "source": [
    "### LCA calculation"
   ]
  },
  {
   "cell_type": "code",
   "execution_count": null,
   "metadata": {},
   "outputs": [],
   "source": [
    "lca=bc.LCA({activity: 1}, bd.Method(IWplus).name)"
   ]
  },
  {
   "cell_type": "code",
   "execution_count": null,
   "metadata": {},
   "outputs": [],
   "source": [
    "lca.lci()\n",
    "lca.lcia()"
   ]
  },
  {
   "cell_type": "code",
   "execution_count": null,
   "metadata": {},
   "outputs": [],
   "source": [
    "lca.score"
   ]
  },
  {
   "cell_type": "markdown",
   "metadata": {},
   "source": [
    "## Exporting regionalized LCI"
   ]
  },
  {
   "cell_type": "markdown",
   "metadata": {},
   "source": [
    "Next, we'll look at how to extract the regionalized inventory on a single case (the example above)."
   ]
  },
  {
   "cell_type": "markdown",
   "metadata": {},
   "source": [
    "First, we define a simple function to look up activities in ecoinvent in an efficient way."
   ]
  },
  {
   "cell_type": "code",
   "execution_count": null,
   "metadata": {},
   "outputs": [],
   "source": [
    "@lru_cache(maxsize=16000) # lru_cache speeds up repeated lookups. Do not omit it or you might run out of memory and crash.\n",
    "def cached_lookup(key):\n",
    "    return bd.get_activity(key)"
   ]
  },
  {
   "cell_type": "markdown",
   "metadata": {},
   "source": [
    "To export the regionalized inventory, we need to check each possible combination of elementary flow and activity in our LCA. If the amount of a specific elementary flow for a specific activity is not zero, then we look up information for this activity in the ecoinvent database, such as name, category, unit, reference product, and, in particular: location."
   ]
  },
  {
   "cell_type": "code",
   "execution_count": null,
   "metadata": {},
   "outputs": [],
   "source": [
    "def regio_inventory(lca):\n",
    "    inventory_results = {'amount':[], 'elementary_flow':[], 'EF_compartment':[], 'EF_unit':[], 'activity_name':[], 'activity_location':[], 'reference_product':[]}\n",
    "    maxrow=len(lca.biosphere_dict)-1\n",
    "\n",
    "    for row_key, row in lca.biosphere_dict.items(): # iterate over elementary flows\n",
    "        clear_output(wait=True)\n",
    "        print('reading elementary flow number ',row, 'of ', maxrow)\n",
    "        for col_key, col in lca.activity_dict.items(): # iterate over activities\n",
    "            if lca.inventory[row, col] != 0: # check in the full inventory matrix if the value for this elementary flow and activity is not zero\n",
    "                ef=cached_lookup(row_key) # look up the elementary flow \n",
    "                act=cached_lookup(col_key) # look up the activity\n",
    "                inventory_results['amount'].append(lca.inventory[row, col]) \n",
    "                inventory_results['elementary_flow'].append(ef.get('name'))\n",
    "                inventory_results['EF_compartment'].append(ef.get('categories'))\n",
    "                inventory_results['EF_unit'].append(ef.get('unit'))\n",
    "                inventory_results['activity_name'].append(act.get('name'))\n",
    "                inventory_results['activity_location'].append(act.get('location'))\n",
    "                inventory_results['reference_product'].append(act.get('reference product'))\n",
    "                \n",
    "    return inventory_results"
   ]
  },
  {
   "cell_type": "markdown",
   "metadata": {},
   "source": [
    "Let's try it on our example LCA - careful, this takes close to an hour to run on my computer."
   ]
  },
  {
   "cell_type": "code",
   "execution_count": null,
   "metadata": {},
   "outputs": [],
   "source": [
    "inv=regio_inventory(lca)"
   ]
  },
  {
   "cell_type": "markdown",
   "metadata": {},
   "source": [
    "Right now the result is a dictionary. To export this as a table, readable in Excel, we convert it to a DataFrame:"
   ]
  },
  {
   "cell_type": "code",
   "execution_count": null,
   "metadata": {},
   "outputs": [],
   "source": [
    "inv_df=pd.DataFrame.from_dict(inv)\n",
    "inv_df.to_excel(\"your-path-and-file-name.xlsx\")\n",
    "# To read it again: \n",
    "# inv_df=pd.read_excel(\"your-path-and-file-name.xlsx\", sheet_name='Sheet1')"
   ]
  },
  {
   "cell_type": "markdown",
   "metadata": {},
   "source": [
    "## Automating it"
   ]
  },
  {
   "cell_type": "markdown",
   "metadata": {},
   "source": [
    "First, let's import the list of all products we want to treat."
   ]
  },
  {
   "cell_type": "code",
   "execution_count": null,
   "metadata": {},
   "outputs": [],
   "source": [
    "product_list=pd.read_excel(\"path_to_Example product list.xlsx\")"
   ]
  },
  {
   "cell_type": "code",
   "execution_count": null,
   "metadata": {},
   "outputs": [],
   "source": [
    "product_list"
   ]
  },
  {
   "cell_type": "markdown",
   "metadata": {},
   "source": [
    "Let's make a list with all the market activities."
   ]
  },
  {
   "cell_type": "code",
   "execution_count": null,
   "metadata": {},
   "outputs": [],
   "source": [
    "activity_list=[]\n",
    "for i in product_list.index:\n",
    "    print('activity: '+product_list.loc[i,'Ecoinvent process']+' _ product: '+product_list.loc[i,'Product name']+' _ geography: '+product_list.loc[i,'Geography']+' _ unit: '+product_list.loc[i,'Ecoinvent unit'])\n",
    "    act=select_activity(product_list.loc[i,'Ecoinvent process'], product_list.loc[i,'Product name'], product_list.loc[i,'Geography'], product_list.loc[i,'Ecoinvent unit'])\n",
    "    activity_list.append(act)"
   ]
  },
  {
   "cell_type": "markdown",
   "metadata": {},
   "source": [
    "Define a folder where you will store your inventories:"
   ]
  },
  {
   "cell_type": "code",
   "execution_count": null,
   "metadata": {},
   "outputs": [],
   "source": [
    "prod_path=\"your-path-to-an-inventory-folder-ending-with\\\\\"\n"
   ]
  },
  {
   "cell_type": "code",
   "execution_count": null,
   "metadata": {},
   "outputs": [],
   "source": [
    "already_done_files=os.listdir(prod_path) # In case you run this code multiple times, you can skip already done products.\n",
    "already_done_prod=[]\n",
    "for a in already_done_files:\n",
    "    b=a.replace('.xlsx','')\n",
    "    already_done_prod.append(b.split('__')) # I use a double underscore to separate the product name, the geography and the unit in the file name"
   ]
  },
  {
   "cell_type": "markdown",
   "metadata": {},
   "source": [
    "As before, we run the function to regionalize the inventory, but this time we run it on the full list of activity and automatically save each inventory in the folder. Note that this might take hours, if not days, depending on the size of your list of products."
   ]
  },
  {
   "cell_type": "code",
   "execution_count": null,
   "metadata": {},
   "outputs": [],
   "source": [
    "for a in activity_list:\n",
    "    if [a['reference product'],a['location'],a['unit']] not in already_done_prod:\n",
    "        lca=bc.LCA({a: 1})\n",
    "        lca.lci()\n",
    "        \n",
    "        reg_inv=regio_inventory(lca)\n",
    "        reg_inv_df=pd.DataFrame.from_dict(reg_inv)\n",
    "        \n",
    "        reg_inv_df.to_excel(prod_path+a['reference product'].replace('/','--')+'__'+a['location']+'__'+a['unit']+\".xlsx\") # If there's a slash in the product name, it will not work, so I replace it with a double dash."
   ]
  },
  {
   "cell_type": "markdown",
   "metadata": {},
   "source": [
    "## Mapping with GLAM factors"
   ]
  },
  {
   "cell_type": "markdown",
   "metadata": {},
   "source": [
    "Now that we have regionalized inventories, let's look at how we can connect them with the right characterization factors from GLAM and Impact World +"
   ]
  },
  {
   "cell_type": "markdown",
   "metadata": {},
   "source": [
    "First, we need to import appropriate mapping tables, matching the name of flows in GLAM or Impact World + to ecoinvent."
   ]
  },
  {
   "cell_type": "code",
   "execution_count": null,
   "metadata": {},
   "outputs": [],
   "source": [
    "mapping_table_GLAM=pd.read_excel(\"your-path-to-mappingTableGLAM.xlsx\") # Mapping for GLAM land use flows - note that it is homemade, and might not reflect \"official\" mapping tables developed at a later point."
   ]
  },
  {
   "cell_type": "code",
   "execution_count": null,
   "metadata": {},
   "outputs": [],
   "source": [
    "mapping_table_IW=pd.read_excel(\"your-path-to-mappingTableIWPlus.xlsx\") # Mapping table for Impact World+ flows "
   ]
  },
  {
   "cell_type": "code",
   "execution_count": null,
   "metadata": {},
   "outputs": [],
   "source": [
    "geo_mapping=pd.read_excel(\"your-path-to-mappingTableGeographies.xlsx\") # Mapping for geographies - here too, the mapping is homemade and some liberties have been taken with approximating larger regions as single countries (e.g. EU as Germany) but this should only affect very few flows in ecoinvent.\n",
    "# See https://support.ecoinvent.org/geographies for more information."
   ]
  },
  {
   "cell_type": "markdown",
   "metadata": {},
   "source": [
    "We also import the GLAM characterization factors:"
   ]
  },
  {
   "cell_type": "code",
   "execution_count": null,
   "metadata": {},
   "outputs": [],
   "source": [
    "GLAM_landuse_path=\"your-path-to-GLAM_template_EQ_Land_Use.xlsx\"  # You need to download the GLAM characterization factors from https://www.lifecycleinitiative.org/activities/life-cycle-assessment-data-and-methods/global-guidance-for-life-cycle-impact-assessment-indicators-and-methods-glam/ \n",
    "GLAM_df=pd.read_excel(GLAM_landuse_path,sheet_name='lciamethods_CF')\n",
    "GLAM_land = GLAM_df[(GLAM_df['FLOW_class0']=='Land use') & (GLAM_df['Species']=='Aggregated') & (GLAM_df['LCIAMethod_type']=='Damage level') & (GLAM_df['LCIAMethod_name']=='EQ Land use') & (GLAM_df['Scenario']!='original_weighting_ecoregion_area') & (GLAM_df['Scenario']!='proxy_weighting_ecoregion_area') & (GLAM_df['LCIAMethod_location_name']!='West Bank')]\n",
    "# We select only :\n",
    "# - the aggregated damage on all species, not for each species\n",
    "# - the damage level (not the midpoint level)\n",
    "# - the original_weighting_ecoregion_area scenario\n",
    "# - somehow there is a geographic code that corresponds both to West Bank and to Gaza. I only kepy Gaza to avoid double-counting (this is unlikely to influence the results).\n",
    "GLAM_land.loc[:,'RegionalOrGlobal']=GLAM_land.loc[:,'Unit'].str.split(n=1, expand=True)[0] # The info on whether the CF is regional or global is in the unit, so we split it and keep only the first part\n"
   ]
  },
  {
   "cell_type": "markdown",
   "metadata": {},
   "source": [
    "We reformat them using a pivot table (this will come in handy later):"
   ]
  },
  {
   "cell_type": "code",
   "execution_count": null,
   "metadata": {},
   "outputs": [],
   "source": [
    "GLAM_land_pivot=GLAM_land.pivot(index=['FLOW_name_org','FLOW_class1','LCIAMethod_location'], columns=['LCIAMethod_mathematicalApproach','RegionalOrGlobal'], values='CF')\n",
    "GLAM_land_pivot.columns=['Average Regional CF','Average Global CF','Marginal Regional CF','Marginal Global CF']"
   ]
  },
  {
   "cell_type": "markdown",
   "metadata": {},
   "source": [
    "Similarly, we can import Impact World +"
   ]
  },
  {
   "cell_type": "code",
   "execution_count": null,
   "metadata": {},
   "outputs": [],
   "source": [
    "iwplus=pd.read_excel(\"your-path-to.impact_world_plus_2.1_footprint_version_ecoinvent_v311.xlsx\") # Or your preferred version of Impact World + Downloaded from https://zenodo.org/records/14041258\n",
    "iwplus_land=iwplus[(iwplus['Impact category'].str.contains('Land ')) & (iwplus['MP or Damage'].str.contains('Damage'))]"
   ]
  },
  {
   "cell_type": "markdown",
   "metadata": {},
   "source": [
    "Next, we can define a function to match each item in an inventory to the appropriate characterization factors."
   ]
  },
  {
   "cell_type": "code",
   "execution_count": null,
   "metadata": {},
   "outputs": [],
   "source": [
    "def mapper_land(inv_df, GLAM_land_pivot, mapping_table_GLAM, mapping_table_IW, geo_mapping, iwplus_land): \n",
    " \n",
    "    # Map the ecoinvent inventory data to GLAM flow names\n",
    "    inv_df_mapped=pd.merge(inv_df, mapping_table_GLAM[['GLAM flow','Ecoinvent','Type','Type2']], how='left', left_on='elementary_flow', right_on='Ecoinvent')\n",
    "    inv_df_mapped=inv_df_mapped.drop(columns=['Ecoinvent'])\n",
    "\n",
    "    # Map to geography codes\n",
    "    inv_df_geo=pd.merge(inv_df_mapped, geo_mapping[['Shortname','GLAM_geo_code','IW+_geo_code']], how='left', left_on='activity_location', right_on='Shortname')\n",
    "    inv_df_geo=inv_df_geo.drop(columns=['Shortname'])\n",
    "\n",
    "    # Map to GLAM land use characterization factors\n",
    "    inv_df_CFs_GLAM=pd.merge(inv_df_geo, GLAM_land_pivot, how='left', left_on=['GLAM flow','Type2', 'GLAM_geo_code'], right_index=True)\n",
    "\n",
    "    # Map to IW+ flows\n",
    "    inv_df_CFs_GLAM_IWmap=pd.merge(inv_df_CFs_GLAM, mapping_table_IW[['IW+','ecoinvent']], how='left', left_on='elementary_flow', right_on='ecoinvent')\n",
    "    inv_df_CFs_GLAM_IWmap=inv_df_CFs_GLAM_IWmap.drop(columns=['ecoinvent'])\n",
    "    inv_df_CFs_GLAM_IWmap['IW+_Flow']=inv_df_CFs_GLAM_IWmap['IW+']+', '+inv_df_CFs_GLAM_IWmap['IW+_geo_code'] # Build the full name of the IW+ flow by combining the IW+ flow name and the geography code\n",
    "\n",
    "    # Map to IW+ characterization factors\n",
    "    inv_df_CFs_iw=pd.merge(inv_df_CFs_GLAM_IWmap, iwplus_land[['Elem flow name', 'CF value']], how='left', left_on='IW+_Flow', right_on='Elem flow name')\n",
    "    inv_df_CFs_iw=inv_df_CFs_iw.drop(columns=['Elem flow name'])\n",
    "    inv_df_CFs_iw=inv_df_CFs_iw.rename(columns={'CF value':'CF_IW+'})\n",
    "\n",
    "    for i in inv_df_CFs_iw.index: # The name of the GLAM flows does not indicate whether they are transformations \"to\" or \"from\" a specific land use type, so we need to check the Type column and invert the CFs if necessary.\n",
    "        if str(inv_df_CFs_iw.loc[i,'Type'])=='from':\n",
    "            inv_df_CFs_iw.loc[i,'Average Regional CF']=-inv_df_CFs_iw.loc[i,'Average Regional CF']\n",
    "            inv_df_CFs_iw.loc[i,'Average Global CF']=-inv_df_CFs_iw.loc[i,'Average Global CF']\n",
    "            inv_df_CFs_iw.loc[i,'Marginal Regional CF']=-inv_df_CFs_iw.loc[i,'Marginal Regional CF']\n",
    "            inv_df_CFs_iw.loc[i,'Marginal Global CF']=-inv_df_CFs_iw.loc[i,'Marginal Global CF']\n",
    "\n",
    "    inv_df_impact=inv_df_CFs_iw\n",
    "    inv_df_impact['Average Regional Impact']=inv_df_impact['amount']*inv_df_impact['Average Regional CF']\n",
    "    inv_df_impact['Average Global Impact']=inv_df_impact['amount']*inv_df_impact['Average Global CF']\n",
    "    inv_df_impact['Marginal Regional Impact']=inv_df_impact['amount']*inv_df_impact['Marginal Regional CF']\n",
    "    inv_df_impact['Marginal Global Impact']=inv_df_impact['amount']*inv_df_impact['Marginal Global CF']\n",
    "    inv_df_impact['Impact_IW+']=inv_df_impact['amount']*inv_df_impact['CF_IW+']\n",
    "    \n",
    "    return inv_df_impact"
   ]
  },
  {
   "cell_type": "markdown",
   "metadata": {},
   "source": [
    "Then we iterate for all products\n"
   ]
  },
  {
   "cell_type": "code",
   "execution_count": null,
   "metadata": {},
   "outputs": [],
   "source": [
    "inventory_files=os.listdir(prod_path)\n",
    "characterized_inventories=\"your-path-to-a-folder-ending-with\\\\\"\n",
    "all_results=[]\n",
    "for prod in inventory_files:\n",
    "    # This part will create a characterized inventory and save it in the characterized_inventories folder.\n",
    "    inv_df=pd.read_excel(prod_path+'\\\\'+prod)\n",
    "    characterized_inventory=mapper_land(inv_df, GLAM_land_pivot, mapping_table_GLAM, mapping_table_IW, geo_mapping, iwplus_land)\n",
    "    characterized_inventory[characterized_inventory['EF_compartment'].str.contains('land')].to_excel(characterized_inventories+prod)\n",
    "\n",
    "    # This part will gather all results in a single table:\n",
    "    results=characterized_inventory[characterized_inventory['EF_compartment'].str.contains('land')][['Average Regional Impact','Average Global Impact','Marginal Regional Impact','Marginal Global Impact', 'Impact_IW+']].sum()\n",
    "    results_df=pd.DataFrame(results, columns=[prod.replace('.xlsx','')])\n",
    "    all_results.append(results_df)\n",
    "\n",
    "all_results_df=pd.concat(all_results, axis=1).T"
   ]
  },
  {
   "cell_type": "code",
   "execution_count": null,
   "metadata": {},
   "outputs": [],
   "source": [
    "all_results_df"
   ]
  },
  {
   "cell_type": "markdown",
   "metadata": {},
   "source": [
    "## Changing geography and forestry type"
   ]
  },
  {
   "cell_type": "markdown",
   "metadata": {},
   "source": [
    "The following code will change the location of all activities for the main product in the inventory ONLY:"
   ]
  },
  {
   "cell_type": "code",
   "execution_count": null,
   "metadata": {},
   "outputs": [],
   "source": [
    "def geo_remapper(inventory_df,country_code):\n",
    "    inv_df_sort=inventory_df[inventory_df['EF_compartment'].str.contains('land')].sort_values(by=['amount'], ascending=False)\n",
    "    main_product=inv_df_sort.iloc[0]['reference_product']\n",
    "    for i in inv_df_sort.index:\n",
    "        if inv_df_sort.loc[i,'reference_product']==main_product:\n",
    "            inv_df_sort.loc[i,'activity_location']=country_code\n",
    "    return inv_df_sort"
   ]
  },
  {
   "cell_type": "code",
   "execution_count": null,
   "metadata": {},
   "outputs": [],
   "source": [
    "new_countries=['DE', 'SE', 'FI', 'NO', 'DK', 'PL', 'EE', 'LV'] # Make a list of country codes to remap the geography of the inventory data"
   ]
  },
  {
   "cell_type": "code",
   "execution_count": null,
   "metadata": {},
   "outputs": [],
   "source": [
    "path_geo_inventories=\"your_path_to_inventories_with_remapped_geographies\\\\\""
   ]
  },
  {
   "cell_type": "code",
   "execution_count": null,
   "metadata": {},
   "outputs": [],
   "source": [
    "inventory_files=os.listdir(prod_path)\n",
    "for prod_name in inventory_files:\n",
    "    [activity, geography, unit]=prod_name.replace('.xlsx','').split('__')\n",
    "    inv_df=pd.read_excel(prod_path+prod_name)\n",
    "    for country in new_countries:\n",
    "        remapped_df=geo_remapper(inv_df, country)\n",
    "        remapped_df.to_excel(path_geo_inventories+activity+'__'+country+'__'+unit+'.xlsx')\n",
    "    "
   ]
  },
  {
   "cell_type": "markdown",
   "metadata": {},
   "source": [
    "The following code will create new inventories where all occurences of extensive forestry are replaced with intensive forestry, and others where it's the opposite:"
   ]
  },
  {
   "cell_type": "code",
   "execution_count": null,
   "metadata": {},
   "outputs": [],
   "source": [
    "path_forest_inventories=\"your_path_to_inventories_with_remapped_forestry\\\\\"  # This is the folder where you want to save the remapped inventories with extensive and intensive flows\n",
    "geo_forestry_files=os.listdir(path_forest_inventories) # This will skip files that are already in the folder\n",
    "geo_inventory_files=os.listdir(path_geo_inventories) # This reads the files from the folder with remapped geographies above\n",
    "# Note: This code will create a folder with inventories with only extensive and only intensive flows. To get the default case as well, you need to copy the files manually from the remapped folder into the geo_forestry folder, or modify the code\n",
    "for prod_name in geo_inventory_files:\n",
    "    [activity, geography, unit]=prod_name.replace('.xlsx','').split('__')\n",
    "    if activity+'__'+geography+'__'+unit+'__intensive.xlsx' not in geo_forestry_files:\n",
    "        inv_df=pd.read_excel(path_geo_inventories+prod_name)\n",
    "        intensive_df=inv_df.copy()\n",
    "        extensive_df=inv_df.copy()\n",
    "        \n",
    "        for i in inv_df.index:\n",
    "            intensive_df.loc[i,'elementary_flow']=inv_df.loc[i,'elementary_flow'].replace('forest, extensive','forest, intensive') # Replace all extensive forestry flows with intensive forestry flows\n",
    "            extensive_df.loc[i,'elementary_flow']=inv_df.loc[i,'elementary_flow'].replace('forest, intensive','forest, extensive') # Replace all intensive forestry flows with extensive forestry flows\n",
    "                        \n",
    "        intensive_df.to_excel(path_forest_inventories+activity+'__'+geography+'__'+unit+'__intensive.xlsx')\n",
    "        extensive_df.to_excel(path_forest_inventories+activity+'__'+geography+'__'+unit+'__extensive.xlsx')    "
   ]
  },
  {
   "cell_type": "markdown",
   "metadata": {},
   "source": [
    "Then we can run the impact calculations again:"
   ]
  },
  {
   "cell_type": "code",
   "execution_count": null,
   "metadata": {},
   "outputs": [],
   "source": [
    "all_results=[]\n",
    "characterized_inventories_ALL=\"your_path_to_a_folder_to_store_all_characterized_inventories\\\\\"  # This is the folder where you want to save the characterized inventories for all remapped products\n",
    "for prod in os.listdir(path_forest_inventories):\n",
    "    # This part will create a characterized inventory and save it in the characterized_inventories folder.\n",
    "    inv_df=pd.read_excel(path_forest_inventories+prod)\n",
    "    characterized_inventory=mapper_land(inv_df, GLAM_land_pivot, mapping_table_GLAM, mapping_table_IW, geo_mapping, iwplus_land)\n",
    "    characterized_inventory[characterized_inventory['EF_compartment'].str.contains('land')].to_excel(characterized_inventories_ALL+prod)\n",
    "\n",
    "    # This part will gather all results in a single table:\n",
    "    results=characterized_inventory[characterized_inventory['EF_compartment'].str.contains('land')][['Average Regional Impact','Average Global Impact','Marginal Regional Impact','Marginal Global Impact', 'Impact_IW+']].sum()\n",
    "    results_df=pd.DataFrame(results, columns=[prod.replace('.xlsx','')])\n",
    "    all_results.append(results_df)\n",
    "\n",
    "all_results_df=pd.concat(all_results, axis=1).T"
   ]
  }
 ],
 "metadata": {
  "kernelspec": {
   "display_name": "base",
   "language": "python",
   "name": "python3"
  },
  "language_info": {
   "codemirror_mode": {
    "name": "ipython",
    "version": 3
   },
   "file_extension": ".py",
   "mimetype": "text/x-python",
   "name": "python",
   "nbconvert_exporter": "python",
   "pygments_lexer": "ipython3",
   "version": "3.12.7"
  }
 },
 "nbformat": 4,
 "nbformat_minor": 2
}
